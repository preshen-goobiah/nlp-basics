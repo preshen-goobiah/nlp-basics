{
 "cells": [
  {
   "cell_type": "code",
   "execution_count": 3,
   "id": "4939f240-6620-4e65-a5c3-a3cfefb5a093",
   "metadata": {},
   "outputs": [],
   "source": [
    "import tensorflow as tf\n",
    "from tensorflow import keras\n",
    "from tensorflow.keras.preprocessing.text import Tokenizer"
   ]
  },
  {
   "cell_type": "code",
   "execution_count": 38,
   "id": "126a1ff2-8432-4b48-845d-c5a94c6148c0",
   "metadata": {},
   "outputs": [],
   "source": [
    "train_sentences = [\"NLP might be a farce!\", \n",
    "             \"Understanding unstructured inputs (eg. NLP) is a game changer\", \n",
    "             \"Patterns are all around us visual, text, audio. NLP opens the path to recoginizing all of these patterns\"\n",
    "            ]\n",
    "\n",
    "test_sentences = [\"wow this is new NLP\", \"Understanding unstructured inputs (eg. Audio) is a game changer\"]"
   ]
  },
  {
   "cell_type": "code",
   "execution_count": 39,
   "id": "c53c7cc9-a797-417b-912d-77a59053eafb",
   "metadata": {},
   "outputs": [],
   "source": [
    "tokenizer = Tokenizer(num_words=100, oov_token=\"<OOV>\")"
   ]
  },
  {
   "cell_type": "code",
   "execution_count": 40,
   "id": "34cd4b87-ad9e-497a-b93b-27cf246dd5a1",
   "metadata": {},
   "outputs": [],
   "source": [
    "tokenizer.fit_on_texts(sentences)"
   ]
  },
  {
   "cell_type": "code",
   "execution_count": 34,
   "id": "9563dd29-e13f-4553-a350-dc7f1d80fec6",
   "metadata": {},
   "outputs": [],
   "source": [
    "word_index = tokenizer.word_index"
   ]
  },
  {
   "cell_type": "code",
   "execution_count": 36,
   "id": "4fd67b45-4899-4c0c-acaa-9d82952aa030",
   "metadata": {},
   "outputs": [
    {
     "data": {
      "text/plain": [
       "{'<OOV>': 1,\n",
       " 'nlp': 2,\n",
       " 'a': 3,\n",
       " 'patterns': 4,\n",
       " 'all': 5,\n",
       " 'might': 6,\n",
       " 'be': 7,\n",
       " 'farce': 8,\n",
       " 'understanding': 9,\n",
       " 'unstructured': 10,\n",
       " 'inputs': 11,\n",
       " 'eg': 12,\n",
       " 'is': 13,\n",
       " 'game': 14,\n",
       " 'changer': 15,\n",
       " 'are': 16,\n",
       " 'around': 17,\n",
       " 'us': 18,\n",
       " 'visual': 19,\n",
       " 'text': 20,\n",
       " 'audio': 21,\n",
       " 'opens': 22,\n",
       " 'the': 23,\n",
       " 'path': 24,\n",
       " 'to': 25,\n",
       " 'recoginizing': 26,\n",
       " 'of': 27,\n",
       " 'these': 28}"
      ]
     },
     "execution_count": 36,
     "metadata": {},
     "output_type": "execute_result"
    }
   ],
   "source": [
    "word_index"
   ]
  },
  {
   "cell_type": "code",
   "execution_count": 37,
   "id": "3aace476-1ecf-4b59-ad5e-6958f053355b",
   "metadata": {},
   "outputs": [],
   "source": [
    "sequences = tokenizer.texts_to_sequences(sentences)"
   ]
  },
  {
   "cell_type": "code",
   "execution_count": 26,
   "id": "7d1d5b7e-742c-4d2d-a069-8989c499fdc8",
   "metadata": {},
   "outputs": [
    {
     "data": {
      "text/plain": [
       "[[1, 5, 6, 2, 7],\n",
       " [8, 9, 10, 11, 1, 12, 2, 13, 14],\n",
       " [3, 15, 4, 16, 17, 18, 19, 20, 1, 21, 22, 23, 24, 25, 4, 26, 27, 3]]"
      ]
     },
     "execution_count": 26,
     "metadata": {},
     "output_type": "execute_result"
    }
   ],
   "source": [
    "sequences"
   ]
  },
  {
   "cell_type": "code",
   "execution_count": 46,
   "id": "389fd154-6ac8-41cb-96c3-e228e7d38ed5",
   "metadata": {},
   "outputs": [
    {
     "data": {
      "text/plain": [
       "array([[ 2,  6,  7,  3,  8,  0,  0,  0,  0,  0],\n",
       "       [ 9, 10, 11, 12,  2, 13,  3, 14, 15,  0],\n",
       "       [ 2, 22, 23, 24, 25, 26,  5, 27, 28,  4]], dtype=int32)"
      ]
     },
     "execution_count": 46,
     "metadata": {},
     "output_type": "execute_result"
    }
   ],
   "source": [
    "from tensorflow.keras.preprocessing.sequence import pad_sequences\n",
    "\n",
    "padded = pad_sequences(sequences, padding=\"post\", maxlen=10)\n",
    "padded"
   ]
  },
  {
   "cell_type": "code",
   "execution_count": 42,
   "id": "5bb1c08e-1dc5-40e8-8ce4-defe253e64f5",
   "metadata": {},
   "outputs": [],
   "source": [
    "test_seq = tokenizer.texts_to_sequences(test_sentences)"
   ]
  }
 ],
 "metadata": {
  "kernelspec": {
   "display_name": "conda_tensorflow2_p38",
   "language": "python",
   "name": "conda_tensorflow2_p38"
  },
  "language_info": {
   "codemirror_mode": {
    "name": "ipython",
    "version": 3
   },
   "file_extension": ".py",
   "mimetype": "text/x-python",
   "name": "python",
   "nbconvert_exporter": "python",
   "pygments_lexer": "ipython3",
   "version": "3.8.12"
  }
 },
 "nbformat": 4,
 "nbformat_minor": 5
}
